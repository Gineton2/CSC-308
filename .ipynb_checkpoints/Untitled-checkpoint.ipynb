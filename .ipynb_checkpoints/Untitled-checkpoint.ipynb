{
 "cells": [
  {
   "cell_type": "markdown",
   "metadata": {},
   "source": [
    "# [NumPy Tutorial](https://www.w3schools.com/python/numpy/default.asp) #\n",
    "\n",
    "## [Intro](https://www.w3schools.com/python/numpy/numpy_intro.asp) ##\n",
    "\n",
    "- Numpy provides 50x faster array objects than Python.\n",
    "- Array object is called `ndarray`\n",
    "- `ndarray` is faster because it is stored in one continuous place in memory, making access and manipulation efficient; ie, `locality of reference`. NumPy is written in Python and C++ for fast computation.\n",
    "- [Source Code](https://github.com/numpy/numpy)\n",
    "\n",
    "Installation\n",
    "- `pip install numpy` in terminal (with Python and pip installed)\n",
    "- Import: \n",
    "  - `import numpy`\n",
    "  - usually aliased: `import numpy as np`\n",
    "- Hello world:\n",
    "  - `import numpy\n",
    "    arr = numpy.array((1,2,3])\n",
    "    print(arr)`\n",
    "  - `arr = np.array([4,5,6])`\n",
    "  - Check version: `print(np.__version__)`"
   ]
  },
  {
   "cell_type": "code",
   "execution_count": 3,
   "metadata": {
    "scrolled": true
   },
   "outputs": [
    {
     "name": "stdout",
     "output_type": "stream",
     "text": [
      "Hello World!\n"
     ]
    }
   ],
   "source": [
    "#import numpy as np\n",
    "print('Hello World!')"
   ]
  },
  {
   "cell_type": "markdown",
   "metadata": {},
   "source": [
    "## Creating Arrays ##\n",
    "\n",
    "Arrays are created with `array()` fn.\n",
    "It accepts:\n",
    "- list\n",
    "- tuple\n",
    "- any array-like object\n",
    "\n",
    "These will be converted to an `ndarray`.\n",
    "\n",
    "### O-D Array/Scalar ###\n",
    "`arr = np.array(420)`\n",
    "### 1-D Array ###\n",
    "`arr = np.array([6,6,6])`\n",
    "### 2-D Array/Matrix/Tensor ###\n",
    "`arr = np.array([[4,2],[1,3]])`\n",
    "### 3-D Array/3rd Order Tensor ###\n",
    "An array with 2-D arrays as its elements.\n",
    "` arr = np.array([[[1, 2, 3], [4, 5, 6]], [[1, 2, 3], [4, 5, 6]]])`\n",
    "### Number of Dimensions ###\n",
    "`print(arr.ndim)`\n",
    "### Higher dimensions ###\n",
    "Five dimensions:\n",
    "\n",
    "`arr = np.array([1,2,3,4], ndmin=5)`\n",
    "\n",
    "``print(`num dimensions:`, arr.ndim)``"
   ]
  },
  {
   "cell_type": "markdown",
   "metadata": {},
   "source": [
    "## [NumPy Array Indexing](https://www.w3schools.com/python/numpy/numpy_array_indexing.asp) ##\n",
    "### Access Array Elements ###\n",
    "`print(arr[0])`\n",
    "### 2-D access ###\n",
    "`print('5th element on 2nd dim: ', arr[1, 4])`\n",
    "### 3-D ###\n",
    "`print(arr[0, 1, 2])`\n",
    "### Negative indexing ###\n",
    "`print('Last element from 2nd dim: ', arr[1, -1])`"
   ]
  },
  {
   "cell_type": "markdown",
   "metadata": {},
   "source": [
    "## [NumPy Array Slicing](https://www.w3schools.com/python/numpy/numpy_array_slicing.asp) ##\n",
    "`arr[start:end]`\n",
    "`arr[start:end:step]`\n",
    "\n",
    "Slice from index n to the end:\n",
    "`arr[n:]`\n",
    "\n",
    "Slice from beginning to index n (not included):\n",
    "`arr[:4]`\n",
    "\n",
    "Negative Slicing (index 3 to index 1 from the **end**): `arr[-3:-1]`\n",
    "\n",
    "Stepping. \n",
    "- Returns every other element from index 1 to 5: `arr[1:5:2]`\n",
    "- Returns every other element from entire array: `arr[::2]`\n",
    "2-D Arrays:\n",
    "- 2nd element, from index 1 to 4 `arr[1,1:4]`\n",
    "- Elements from first two indexes `arr[0:2, 1:4]`"
   ]
  },
  {
   "cell_type": "markdown",
   "metadata": {},
   "source": [
    "## [Data Types](https://www.w3schools.com/python/numpy/numpy_data_types.asp) ##\n",
    "Python datatypes:\n",
    "  - string\n",
    "  - integer\n",
    "  - float\n",
    "  - boolean\n",
    "  - complex (e.g.: 1.0+2.0j)\n",
    "\n",
    "NumPy Data Types:\n",
    "  - i - integer\n",
    "  - b - boolean\n",
    "  - u - unsigned integer\n",
    "  - f - float\n",
    "  - c - complex float\n",
    "  - m - timedelta\n",
    "  - M - datetime\n",
    "  - O - object\n",
    "  - S - string\n",
    "  - U - unicode string\n",
    "  - V - fixed chunk of memory for other type ( void )\n",
    "\n",
    "Data type operations:\n",
    "  - Return data type of an array object: `print(arr.dtype)`\n",
    "  - Creating array with defined data type (string): \n",
    "    - `arr = np.array([1,2,3,4], dtype='S')`\n",
    "  - Create array with data type 4-bytes-integer:\n",
    "    - `arr = np.array([1, 2, 3, 4], dtype='i4')`\n",
    "  - To change data type of an array, make a copy using `astype()`. (Ex: float to integer)\n",
    "    ```python\n",
    "      arr = np.array([1.1, 2.1, 3.1])\n",
    "      newarr = arr.astype('i')\n",
    "    ```"
   ]
  },
  {
   "cell_type": "markdown",
   "metadata": {},
   "source": [
    "## [Copy vs View](https://www.w3schools.com/python/numpy/numpy_copy_vs_view.asp) ##\n",
    "  - Copy makes a new array from another\n",
    "  - View is similar to a reference to the original array.\n",
    "    ```python\n",
    "      arr = np.array([1, 2, 3, 4, 5])\n",
    "      x = arr.copy()\n",
    "      y = arr.view()\n",
    "      x[0] = 6 # does not modify arr\n",
    "      y[0] = 9 # modifies arr\n",
    "    ```\n",
    "  - Copy owns data, view does not own data\n",
    "  - Check using `base`. Returns None if array owns the data\n",
    "    ```python\n",
    "      print(x.base) # copy, returns None\n",
    "      print(y.base) # view, returns original array\n",
    "    ```"
   ]
  },
  {
   "cell_type": "markdown",
   "metadata": {},
   "source": [
    "## [Array Shape](https://www.w3schools.com/python/numpy/numpy_array_shape.asp) ##\n",
    "- NumPy arrays have attribute called `shape`, returns tuple with \"dimensions\" and number of elements.\n",
    "  - ```python \n",
    "    arr = np.array([[1, 2, 3, 4], [5, 6, 7, 8]])\n",
    "    print(arr.shape) # returns: (2,4)\n",
    "    ```"
   ]
  },
  {
   "cell_type": "markdown",
   "metadata": {},
   "source": [
    "## [Array Reshape](https://www.w3schools.com/python/numpy/numpy_array_reshape.asp) ##\n",
    "- add or remove dimensions; or, change num of elements in ea dimension\n",
    "  ```python\n",
    "  arr = np.array([1, 2, 3, 4, 5, 6, 7, 8, 9, 10, 11, 12])\n",
    "  # converts 1-D array of 12 element into 2-D array\n",
    "  # outermost dim with 4 arrays, ea with 3 elements:\n",
    "  newarr = arr.reshape(4, 3) \n",
    "  ```\n",
    "  ```python\n",
    "  arr = np.array([1, 2, 3, 4, 5, 6, 7, 8, 9, 10, 11, 12])\n",
    "  # converts 1-D array of 12 element into 3-D array\n",
    "  # outermost dim with 2 arrays, ea with 3 arrays of 2 elements ea:\n",
    "  newarr = arr.reshape(2, 3, 2)\n",
    "  ```\n",
    "- num of elements has to be the same in the reshape\n",
    "- `print(arr.reshape(2, 4).base)` returns og array (it's a view)\n",
    "  \n",
    "Unknown Dimension\n",
    "- one unknown dimension allowed, which doesn't have specified dimensions\n",
    "- NumPy will calculate the dims\n",
    "- Ex converts 1D array w/ 8 eles to 3D array with 2x2 eles\n",
    "  ```python\n",
    "  arr = np.array([1, 2, 3, 4, 5, 6, 7, 8])\n",
    "  newarr = arr.reshape(2, 2, -1)\n",
    "  ```\n",
    "Flatten array:\n",
    "- Converts array to 1D array:\n",
    "  ```python\n",
    "  arr = np.array([[1, 2, 3], [4, 5, 6]])\n",
    "  newarr = arr.reshape(-1)\n",
    "  ```"
   ]
  },
  {
   "cell_type": "code",
   "execution_count": null,
   "metadata": {},
   "outputs": [],
   "source": []
  }
 ],
 "metadata": {
  "kernelspec": {
   "display_name": "Python 3",
   "language": "python",
   "name": "python3"
  },
  "language_info": {
   "codemirror_mode": {
    "name": "ipython",
    "version": 3
   },
   "file_extension": ".py",
   "mimetype": "text/x-python",
   "name": "python",
   "nbconvert_exporter": "python",
   "pygments_lexer": "ipython3",
   "version": "3.8.3"
  }
 },
 "nbformat": 4,
 "nbformat_minor": 4
}
